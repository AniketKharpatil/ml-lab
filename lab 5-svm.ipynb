{
 "cells": [
  {
   "cell_type": "markdown",
   "id": "24332cd9",
   "metadata": {},
   "source": [
    "# SVM implementation"
   ]
  },
  {
   "cell_type": "code",
   "execution_count": 35,
   "id": "5979f693",
   "metadata": {},
   "outputs": [],
   "source": [
    "# Import necessary modules\n",
    "import pandas as pd\n",
    "from sklearn.model_selection import train_test_split\n",
    "from sklearn.svm import SVC\n",
    "from sklearn import svm, datasets"
   ]
  },
  {
   "cell_type": "code",
   "execution_count": 36,
   "id": "58998f53",
   "metadata": {},
   "outputs": [
    {
     "data": {
      "text/html": [
       "<div>\n",
       "<style scoped>\n",
       "    .dataframe tbody tr th:only-of-type {\n",
       "        vertical-align: middle;\n",
       "    }\n",
       "\n",
       "    .dataframe tbody tr th {\n",
       "        vertical-align: top;\n",
       "    }\n",
       "\n",
       "    .dataframe thead th {\n",
       "        text-align: right;\n",
       "    }\n",
       "</style>\n",
       "<table border=\"1\" class=\"dataframe\">\n",
       "  <thead>\n",
       "    <tr style=\"text-align: right;\">\n",
       "      <th></th>\n",
       "      <th>Pregnancies</th>\n",
       "      <th>Glucose</th>\n",
       "      <th>BloodPressure</th>\n",
       "      <th>SkinThickness</th>\n",
       "      <th>Insulin</th>\n",
       "      <th>BMI</th>\n",
       "      <th>DiabetesPedigreeFunction</th>\n",
       "      <th>Age</th>\n",
       "      <th>Outcome</th>\n",
       "    </tr>\n",
       "  </thead>\n",
       "  <tbody>\n",
       "    <tr>\n",
       "      <th>0</th>\n",
       "      <td>6</td>\n",
       "      <td>148</td>\n",
       "      <td>72</td>\n",
       "      <td>35</td>\n",
       "      <td>0</td>\n",
       "      <td>33.6</td>\n",
       "      <td>0.627</td>\n",
       "      <td>50</td>\n",
       "      <td>1</td>\n",
       "    </tr>\n",
       "    <tr>\n",
       "      <th>1</th>\n",
       "      <td>1</td>\n",
       "      <td>85</td>\n",
       "      <td>66</td>\n",
       "      <td>29</td>\n",
       "      <td>0</td>\n",
       "      <td>26.6</td>\n",
       "      <td>0.351</td>\n",
       "      <td>31</td>\n",
       "      <td>0</td>\n",
       "    </tr>\n",
       "    <tr>\n",
       "      <th>2</th>\n",
       "      <td>8</td>\n",
       "      <td>183</td>\n",
       "      <td>64</td>\n",
       "      <td>0</td>\n",
       "      <td>0</td>\n",
       "      <td>23.3</td>\n",
       "      <td>0.672</td>\n",
       "      <td>32</td>\n",
       "      <td>1</td>\n",
       "    </tr>\n",
       "    <tr>\n",
       "      <th>3</th>\n",
       "      <td>1</td>\n",
       "      <td>89</td>\n",
       "      <td>66</td>\n",
       "      <td>23</td>\n",
       "      <td>94</td>\n",
       "      <td>28.1</td>\n",
       "      <td>0.167</td>\n",
       "      <td>21</td>\n",
       "      <td>0</td>\n",
       "    </tr>\n",
       "    <tr>\n",
       "      <th>4</th>\n",
       "      <td>0</td>\n",
       "      <td>137</td>\n",
       "      <td>40</td>\n",
       "      <td>35</td>\n",
       "      <td>168</td>\n",
       "      <td>43.1</td>\n",
       "      <td>2.288</td>\n",
       "      <td>33</td>\n",
       "      <td>1</td>\n",
       "    </tr>\n",
       "  </tbody>\n",
       "</table>\n",
       "</div>"
      ],
      "text/plain": [
       "   Pregnancies  Glucose  BloodPressure  SkinThickness  Insulin   BMI  \\\n",
       "0            6      148             72             35        0  33.6   \n",
       "1            1       85             66             29        0  26.6   \n",
       "2            8      183             64              0        0  23.3   \n",
       "3            1       89             66             23       94  28.1   \n",
       "4            0      137             40             35      168  43.1   \n",
       "\n",
       "   DiabetesPedigreeFunction  Age  Outcome  \n",
       "0                     0.627   50        1  \n",
       "1                     0.351   31        0  \n",
       "2                     0.672   32        1  \n",
       "3                     0.167   21        0  \n",
       "4                     2.288   33        1  "
      ]
     },
     "execution_count": 36,
     "metadata": {},
     "output_type": "execute_result"
    }
   ],
   "source": [
    "df = pd.read_csv(\"diabetes.csv\")\n",
    "df.head()"
   ]
  },
  {
   "cell_type": "code",
   "execution_count": 37,
   "id": "84cbeac9",
   "metadata": {},
   "outputs": [],
   "source": [
    "X = df.drop(\"Outcome\",axis=\"columns\")\n",
    "y = df.Outcome"
   ]
  },
  {
   "cell_type": "code",
   "execution_count": 38,
   "id": "2896bfb5",
   "metadata": {},
   "outputs": [],
   "source": [
    "# Dataset scaling - Dataset scaling is transforming a dataset to fit within a specific range.\n",
    "from sklearn.preprocessing import StandardScaler\n",
    "scaler = StandardScaler()\n",
    "X_scaled = scaler.fit_transform(X)"
   ]
  },
  {
   "cell_type": "code",
   "execution_count": 39,
   "id": "627463bf",
   "metadata": {},
   "outputs": [],
   "source": [
    "X_train, X_test, y_train, y_test = train_test_split(X, y, test_size= 0.2,random_state = 0)"
   ]
  },
  {
   "cell_type": "code",
   "execution_count": 40,
   "id": "38cab319",
   "metadata": {},
   "outputs": [
    {
     "name": "stdout",
     "output_type": "stream",
     "text": [
      "shape of Training data X_train :(614, 8)\n",
      "shape of Test Data X_test :(154, 8)\n",
      "shape of Training Labels y_train :(614,)\n",
      "shape of Test Labels y_test :(154,)\n"
     ]
    }
   ],
   "source": [
    "print(\"shape of Training data X_train :\"+str(X_train.shape))\n",
    "print(\"shape of Test Data X_test :\"+str(X_test.shape))\n",
    "print(\"shape of Training Labels y_train :\"+str(y_train.shape))\n",
    "print(\"shape of Test Labels y_test :\"+str(y_test.shape))"
   ]
  },
  {
   "cell_type": "code",
   "execution_count": 41,
   "id": "22ba45f8",
   "metadata": {},
   "outputs": [],
   "source": [
    "model = SVC(kernel = 'linear', C = 1)"
   ]
  },
  {
   "cell_type": "code",
   "execution_count": 42,
   "id": "0f6e34e5",
   "metadata": {},
   "outputs": [
    {
     "data": {
      "text/plain": [
       "SVC(C=1, kernel='linear')"
      ]
     },
     "execution_count": 42,
     "metadata": {},
     "output_type": "execute_result"
    }
   ],
   "source": [
    "model.fit(X_train, y_train)"
   ]
  },
  {
   "cell_type": "code",
   "execution_count": 43,
   "id": "b7b8e0e1",
   "metadata": {},
   "outputs": [],
   "source": [
    "svm_pred = model.predict(X_test)"
   ]
  },
  {
   "cell_type": "code",
   "execution_count": 44,
   "id": "04c8060e",
   "metadata": {},
   "outputs": [
    {
     "data": {
      "text/plain": [
       "0.8181818181818182"
      ]
     },
     "execution_count": 44,
     "metadata": {},
     "output_type": "execute_result"
    }
   ],
   "source": [
    "accuracy = model.score(X_test, y_test)\n",
    "accuracy"
   ]
  },
  {
   "cell_type": "code",
   "execution_count": 45,
   "id": "fee73760",
   "metadata": {},
   "outputs": [
    {
     "name": "stdout",
     "output_type": "stream",
     "text": [
      "Linear SVM value of C:1, training score :0.765472 , Test Score: 0.818182 \n",
      "\n",
      "Linear SVM value of C:3, training score :0.768730 , Test Score: 0.818182 \n",
      "\n",
      "Linear SVM value of C:5, training score :0.765472 , Test Score: 0.818182 \n",
      "\n",
      "Linear SVM value of C:10, training score :0.763844 , Test Score: 0.818182 \n",
      "\n",
      "Linear SVM value of C:40, training score :0.767101 , Test Score: 0.792208 \n",
      "\n",
      "Linear SVM value of C:60, training score :0.771987 , Test Score: 0.785714 \n",
      "\n",
      "Linear SVM value of C:80, training score :0.768730 , Test Score: 0.779221 \n",
      "\n",
      "Linear SVM value of C:100, training score :0.765472 , Test Score: 0.805195 \n",
      "\n"
     ]
    }
   ],
   "source": [
    "for this_C in [1,3,5,10,40,60,80,100]:\n",
    "    clf = SVC(kernel='linear',C=this_C).fit(X_train,y_train)\n",
    "    scoretrain = clf.score(X_train,y_train)\n",
    "    scoretest  = clf.score(X_test,y_test)\n",
    "    print(\"Linear SVM value of C:{}, training score :{:2f} , Test Score: {:2f} \\n\".format(this_C,scoretrain,scoretest))"
   ]
  },
  {
   "cell_type": "code",
   "execution_count": 46,
   "id": "e9e9b86a",
   "metadata": {},
   "outputs": [
    {
     "name": "stdout",
     "output_type": "stream",
     "text": [
      "The Cross Validation Score :[0.7398374  0.78861789 0.74796748 0.71544715 0.77868852]\n",
      "The Average Cross Validation Score :0.7541116886578701\n",
      "The Stratified Cross Validation Score :[0.77235772 0.76422764 0.69918699 0.7398374  0.78688525]\n",
      "The Average Stratified Cross Validation Score :0.7524990003998401\n"
     ]
    }
   ],
   "source": [
    "from sklearn.model_selection import cross_val_score,StratifiedKFold,LeaveOneOut\n",
    "clf1 = SVC(kernel='linear',C=20).fit(X_train,y_train)\n",
    "scores = cross_val_score(clf1,X_train,y_train,cv=5)\n",
    "strat_scores = cross_val_score(clf1,X_train,y_train,cv=StratifiedKFold(5,random_state=10,shuffle=True))\n",
    "print(\"The Cross Validation Score :\"+str(scores))\n",
    "print(\"The Average Cross Validation Score :\"+str(scores.mean()))\n",
    "print(\"The Stratified Cross Validation Score :\"+str(strat_scores))\n",
    "print(\"The Average Stratified Cross Validation Score :\"+str(strat_scores.mean()))"
   ]
  },
  {
   "cell_type": "code",
   "execution_count": 47,
   "id": "964328c1",
   "metadata": {},
   "outputs": [
    {
     "name": "stdout",
     "output_type": "stream",
     "text": [
      "SVM for Non Linear \n",
      " C:1 Training Score : 0.758958 Test Score : 0.792208\n",
      "\n",
      "SVM for Non Linear \n",
      " C:5 Training Score : 0.768730 Test Score : 0.818182\n",
      "\n",
      "SVM for Non Linear \n",
      " C:10 Training Score : 0.773616 Test Score : 0.811688\n",
      "\n",
      "SVM for Non Linear \n",
      " C:25 Training Score : 0.780130 Test Score : 0.818182\n",
      "\n",
      "SVM for Non Linear \n",
      " C:50 Training Score : 0.786645 Test Score : 0.818182\n",
      "\n",
      "SVM for Non Linear \n",
      " C:100 Training Score : 0.789902 Test Score : 0.818182\n",
      "\n"
     ]
    }
   ],
   "source": [
    "for this_C in [1,5,10,25,50,100]:\n",
    "    clf3 = SVC(kernel='rbf',C=this_C).fit(X_train,y_train)\n",
    "    clf3train = clf3.score(X_train,y_train)\n",
    "    clf3test  = clf3.score(X_test,y_test)\n",
    "    print(\"SVM for Non Linear \\n C:{} Training Score : {:2f} Test Score : {:2f}\\n\".format(this_C,clf3train,clf3test))"
   ]
  },
  {
   "cell_type": "code",
   "execution_count": 48,
   "id": "e81059ad",
   "metadata": {},
   "outputs": [
    {
     "name": "stdout",
     "output_type": "stream",
     "text": [
      "SVM for Non Linear \n",
      " Gamma: 0.1 C:1 Training Score : 1.000000 Test Score : 0.694805\n",
      "\n",
      "SVM for Non Linear \n",
      " Gamma: 0.1 C:5 Training Score : 1.000000 Test Score : 0.701299\n",
      "\n",
      "SVM for Non Linear \n",
      " Gamma: 0.1 C:7 Training Score : 1.000000 Test Score : 0.701299\n",
      "\n",
      "SVM for Non Linear \n",
      " Gamma: 0.1 C:10 Training Score : 1.000000 Test Score : 0.701299\n",
      "\n",
      "SVM for Non Linear \n",
      " Gamma: 0.1 C:15 Training Score : 1.000000 Test Score : 0.701299\n",
      "\n",
      "SVM for Non Linear \n",
      " Gamma: 0.1 C:25 Training Score : 1.000000 Test Score : 0.701299\n",
      "\n",
      "SVM for Non Linear \n",
      " Gamma: 0.1 C:50 Training Score : 1.000000 Test Score : 0.701299\n",
      "\n",
      "SVM for Non Linear \n",
      " Gamma: 0.5 C:1 Training Score : 1.000000 Test Score : 0.694805\n",
      "\n",
      "SVM for Non Linear \n",
      " Gamma: 0.5 C:5 Training Score : 1.000000 Test Score : 0.694805\n",
      "\n",
      "SVM for Non Linear \n",
      " Gamma: 0.5 C:7 Training Score : 1.000000 Test Score : 0.694805\n",
      "\n",
      "SVM for Non Linear \n",
      " Gamma: 0.5 C:10 Training Score : 1.000000 Test Score : 0.694805\n",
      "\n",
      "SVM for Non Linear \n",
      " Gamma: 0.5 C:15 Training Score : 1.000000 Test Score : 0.694805\n",
      "\n",
      "SVM for Non Linear \n",
      " Gamma: 0.5 C:25 Training Score : 1.000000 Test Score : 0.694805\n",
      "\n",
      "SVM for Non Linear \n",
      " Gamma: 0.5 C:50 Training Score : 1.000000 Test Score : 0.694805\n",
      "\n",
      "SVM for Non Linear \n",
      " Gamma: 0.1 C:1 Training Score : 1.000000 Test Score : 0.694805\n",
      "\n",
      "SVM for Non Linear \n",
      " Gamma: 0.1 C:5 Training Score : 1.000000 Test Score : 0.701299\n",
      "\n",
      "SVM for Non Linear \n",
      " Gamma: 0.1 C:7 Training Score : 1.000000 Test Score : 0.701299\n",
      "\n",
      "SVM for Non Linear \n",
      " Gamma: 0.1 C:10 Training Score : 1.000000 Test Score : 0.701299\n",
      "\n",
      "SVM for Non Linear \n",
      " Gamma: 0.1 C:15 Training Score : 1.000000 Test Score : 0.701299\n",
      "\n",
      "SVM for Non Linear \n",
      " Gamma: 0.1 C:25 Training Score : 1.000000 Test Score : 0.701299\n",
      "\n",
      "SVM for Non Linear \n",
      " Gamma: 0.1 C:50 Training Score : 1.000000 Test Score : 0.701299\n",
      "\n",
      "SVM for Non Linear \n",
      " Gamma: 0.25 C:1 Training Score : 1.000000 Test Score : 0.694805\n",
      "\n",
      "SVM for Non Linear \n",
      " Gamma: 0.25 C:5 Training Score : 1.000000 Test Score : 0.694805\n",
      "\n",
      "SVM for Non Linear \n",
      " Gamma: 0.25 C:7 Training Score : 1.000000 Test Score : 0.694805\n",
      "\n",
      "SVM for Non Linear \n",
      " Gamma: 0.25 C:10 Training Score : 1.000000 Test Score : 0.694805\n",
      "\n",
      "SVM for Non Linear \n",
      " Gamma: 0.25 C:15 Training Score : 1.000000 Test Score : 0.694805\n",
      "\n",
      "SVM for Non Linear \n",
      " Gamma: 0.25 C:25 Training Score : 1.000000 Test Score : 0.694805\n",
      "\n",
      "SVM for Non Linear \n",
      " Gamma: 0.25 C:50 Training Score : 1.000000 Test Score : 0.694805\n",
      "\n",
      "SVM for Non Linear \n",
      " Gamma: 0.5 C:1 Training Score : 1.000000 Test Score : 0.694805\n",
      "\n",
      "SVM for Non Linear \n",
      " Gamma: 0.5 C:5 Training Score : 1.000000 Test Score : 0.694805\n",
      "\n",
      "SVM for Non Linear \n",
      " Gamma: 0.5 C:7 Training Score : 1.000000 Test Score : 0.694805\n",
      "\n",
      "SVM for Non Linear \n",
      " Gamma: 0.5 C:10 Training Score : 1.000000 Test Score : 0.694805\n",
      "\n",
      "SVM for Non Linear \n",
      " Gamma: 0.5 C:15 Training Score : 1.000000 Test Score : 0.694805\n",
      "\n",
      "SVM for Non Linear \n",
      " Gamma: 0.5 C:25 Training Score : 1.000000 Test Score : 0.694805\n",
      "\n",
      "SVM for Non Linear \n",
      " Gamma: 0.5 C:50 Training Score : 1.000000 Test Score : 0.694805\n",
      "\n",
      "SVM for Non Linear \n",
      " Gamma: 1 C:1 Training Score : 1.000000 Test Score : 0.694805\n",
      "\n",
      "SVM for Non Linear \n",
      " Gamma: 1 C:5 Training Score : 1.000000 Test Score : 0.694805\n",
      "\n",
      "SVM for Non Linear \n",
      " Gamma: 1 C:7 Training Score : 1.000000 Test Score : 0.694805\n",
      "\n",
      "SVM for Non Linear \n",
      " Gamma: 1 C:10 Training Score : 1.000000 Test Score : 0.694805\n",
      "\n",
      "SVM for Non Linear \n",
      " Gamma: 1 C:15 Training Score : 1.000000 Test Score : 0.694805\n",
      "\n",
      "SVM for Non Linear \n",
      " Gamma: 1 C:25 Training Score : 1.000000 Test Score : 0.694805\n",
      "\n",
      "SVM for Non Linear \n",
      " Gamma: 1 C:50 Training Score : 1.000000 Test Score : 0.694805\n",
      "\n"
     ]
    }
   ],
   "source": [
    "for this_gamma in [.1,.5,.10,.25,.50,1]:\n",
    "    for this_C in [1,5,7,10,15,25,50]:\n",
    "        clf3 = SVC(kernel='rbf',C=this_C,gamma=this_gamma).fit(X_train,y_train)\n",
    "        clf3train = clf3.score(X_train,y_train)\n",
    "        clf3test  = clf3.score(X_test,y_test)\n",
    "        print(\"SVM for Non Linear \\n Gamma: {} C:{} Training Score : {:2f} Test Score : {:2f}\\n\".format(this_gamma,this_C,clf3train,clf3test))"
   ]
  },
  {
   "cell_type": "code",
   "execution_count": 49,
   "id": "72537a3d",
   "metadata": {},
   "outputs": [
    {
     "name": "stdout",
     "output_type": "stream",
     "text": [
      "Model accuracy score with sigmoid kernel and C=100.0 : 0.4481\n"
     ]
    }
   ],
   "source": [
    "# Run SVM with sigmoid kernel and C=100.0\n",
    "from sklearn.metrics import accuracy_score\n",
    "sigmoid_svc100=SVC(kernel='sigmoid', C=100.0) \n",
    "sigmoid_svc100.fit(X_train,y_train)\n",
    "y_pred=sigmoid_svc100.predict(X_test)\n",
    "print('Model accuracy score with sigmoid kernel and C=100.0 : {0:0.4f}'. format(accuracy_score(y_test, y_pred)))\n",
    "\n"
   ]
  },
  {
   "cell_type": "code",
   "execution_count": 50,
   "id": "da7b6648",
   "metadata": {},
   "outputs": [
    {
     "name": "stdout",
     "output_type": "stream",
     "text": [
      "Confusion matrix\n",
      "\n",
      " [[57 50]\n",
      " [35 12]]\n",
      "\n",
      "True Positives(TP) =  57\n",
      "\n",
      "True Negatives(TN) =  12\n",
      "\n",
      "False Positives(FP) =  50\n",
      "\n",
      "False Negatives(FN) =  35\n"
     ]
    }
   ],
   "source": [
    "from sklearn.metrics import confusion_matrix\n",
    "cm = confusion_matrix(y_test, y_pred)\n",
    "print('Confusion matrix\\n\\n', cm)\n",
    "print('\\nTrue Positives(TP) = ', cm[0,0])\n",
    "print('\\nTrue Negatives(TN) = ', cm[1,1])\n",
    "print('\\nFalse Positives(FP) = ', cm[0,1])\n",
    "print('\\nFalse Negatives(FN) = ', cm[1,0])"
   ]
  },
  {
   "cell_type": "code",
   "execution_count": 51,
   "id": "bd4c3e65",
   "metadata": {},
   "outputs": [
    {
     "name": "stdout",
     "output_type": "stream",
     "text": [
      "Requirement already satisfied: scikit-plot in c:\\programdata\\anaconda3\\lib\\site-packages (0.3.7)\n",
      "Requirement already satisfied: joblib>=0.10 in c:\\programdata\\anaconda3\\lib\\site-packages (from scikit-plot) (1.1.0)\n",
      "Requirement already satisfied: matplotlib>=1.4.0 in c:\\programdata\\anaconda3\\lib\\site-packages (from scikit-plot) (3.4.3)"
     ]
    },
    {
     "name": "stderr",
     "output_type": "stream",
     "text": [
      "WARNING: Ignoring invalid distribution -mportlib-metadata (c:\\programdata\\anaconda3\\lib\\site-packages)\n",
      "WARNING: Ignoring invalid distribution - (c:\\programdata\\anaconda3\\lib\\site-packages)\n",
      "WARNING: Ignoring invalid distribution -cikit-learn (c:\\programdata\\anaconda3\\lib\\site-packages)\n",
      "WARNING: Ignoring invalid distribution -mportlib-metadata (c:\\programdata\\anaconda3\\lib\\site-packages)\n",
      "WARNING: Ignoring invalid distribution - (c:\\programdata\\anaconda3\\lib\\site-packages)\n",
      "WARNING: Ignoring invalid distribution -cikit-learn (c:\\programdata\\anaconda3\\lib\\site-packages)\n",
      "WARNING: Ignoring invalid distribution -mportlib-metadata (c:\\programdata\\anaconda3\\lib\\site-packages)\n",
      "WARNING: Ignoring invalid distribution - (c:\\programdata\\anaconda3\\lib\\site-packages)\n",
      "WARNING: Ignoring invalid distribution -cikit-learn (c:\\programdata\\anaconda3\\lib\\site-packages)\n",
      "WARNING: Ignoring invalid distribution -mportlib-metadata (c:\\programdata\\anaconda3\\lib\\site-packages)\n",
      "WARNING: Ignoring invalid distribution - (c:\\programdata\\anaconda3\\lib\\site-packages)\n",
      "WARNING: Ignoring invalid distribution -cikit-learn (c:\\programdata\\anaconda3\\lib\\site-packages)\n",
      "WARNING: Ignoring invalid distribution -mportlib-metadata (c:\\programdata\\anaconda3\\lib\\site-packages)\n",
      "WARNING: Ignoring invalid distribution - (c:\\programdata\\anaconda3\\lib\\site-packages)\n",
      "WARNING: Ignoring invalid distribution -cikit-learn (c:\\programdata\\anaconda3\\lib\\site-packages)\n",
      "WARNING: Ignoring invalid distribution -mportlib-metadata (c:\\programdata\\anaconda3\\lib\\site-packages)\n",
      "WARNING: Ignoring invalid distribution - (c:\\programdata\\anaconda3\\lib\\site-packages)\n",
      "WARNING: Ignoring invalid distribution -cikit-learn (c:\\programdata\\anaconda3\\lib\\site-packages)\n"
     ]
    },
    {
     "name": "stdout",
     "output_type": "stream",
     "text": [
      "\n",
      "Requirement already satisfied: scipy>=0.9 in c:\\programdata\\anaconda3\\lib\\site-packages (from scikit-plot) (1.7.1)\n",
      "Requirement already satisfied: scikit-learn>=0.18 in c:\\programdata\\anaconda3\\lib\\site-packages (from scikit-plot) (0.24.2)\n",
      "Requirement already satisfied: cycler>=0.10 in c:\\programdata\\anaconda3\\lib\\site-packages (from matplotlib>=1.4.0->scikit-plot) (0.10.0)\n",
      "Requirement already satisfied: python-dateutil>=2.7 in c:\\programdata\\anaconda3\\lib\\site-packages (from matplotlib>=1.4.0->scikit-plot) (2.8.2)\n",
      "Requirement already satisfied: pyparsing>=2.2.1 in c:\\programdata\\anaconda3\\lib\\site-packages (from matplotlib>=1.4.0->scikit-plot) (3.0.4)\n",
      "Requirement already satisfied: pillow>=6.2.0 in c:\\programdata\\anaconda3\\lib\\site-packages (from matplotlib>=1.4.0->scikit-plot) (8.4.0)\n",
      "Requirement already satisfied: numpy>=1.16 in c:\\programdata\\anaconda3\\lib\\site-packages (from matplotlib>=1.4.0->scikit-plot) (1.20.3)\n",
      "Requirement already satisfied: kiwisolver>=1.0.1 in c:\\programdata\\anaconda3\\lib\\site-packages (from matplotlib>=1.4.0->scikit-plot) (1.3.1)\n",
      "Requirement already satisfied: six in c:\\programdata\\anaconda3\\lib\\site-packages (from cycler>=0.10->matplotlib>=1.4.0->scikit-plot) (1.16.0)\n",
      "Requirement already satisfied: threadpoolctl>=2.0.0 in c:\\programdata\\anaconda3\\lib\\site-packages (from scikit-learn>=0.18->scikit-plot) (2.2.0)\n",
      "Requirement already satisfied: sklearn in c:\\programdata\\anaconda3\\lib\\site-packages (0.0)"
     ]
    },
    {
     "name": "stderr",
     "output_type": "stream",
     "text": [
      "WARNING: Ignoring invalid distribution -mportlib-metadata (c:\\programdata\\anaconda3\\lib\\site-packages)\n",
      "WARNING: Ignoring invalid distribution - (c:\\programdata\\anaconda3\\lib\\site-packages)\n",
      "WARNING: Ignoring invalid distribution -cikit-learn (c:\\programdata\\anaconda3\\lib\\site-packages)\n",
      "WARNING: Ignoring invalid distribution -mportlib-metadata (c:\\programdata\\anaconda3\\lib\\site-packages)\n",
      "WARNING: Ignoring invalid distribution - (c:\\programdata\\anaconda3\\lib\\site-packages)\n",
      "WARNING: Ignoring invalid distribution -cikit-learn (c:\\programdata\\anaconda3\\lib\\site-packages)\n",
      "WARNING: Ignoring invalid distribution -mportlib-metadata (c:\\programdata\\anaconda3\\lib\\site-packages)\n",
      "WARNING: Ignoring invalid distribution - (c:\\programdata\\anaconda3\\lib\\site-packages)\n",
      "WARNING: Ignoring invalid distribution -cikit-learn (c:\\programdata\\anaconda3\\lib\\site-packages)\n",
      "WARNING: Ignoring invalid distribution -mportlib-metadata (c:\\programdata\\anaconda3\\lib\\site-packages)\n",
      "WARNING: Ignoring invalid distribution - (c:\\programdata\\anaconda3\\lib\\site-packages)\n",
      "WARNING: Ignoring invalid distribution -cikit-learn (c:\\programdata\\anaconda3\\lib\\site-packages)\n",
      "WARNING: Ignoring invalid distribution -mportlib-metadata (c:\\programdata\\anaconda3\\lib\\site-packages)\n",
      "WARNING: Ignoring invalid distribution - (c:\\programdata\\anaconda3\\lib\\site-packages)\n",
      "WARNING: Ignoring invalid distribution -cikit-learn (c:\\programdata\\anaconda3\\lib\\site-packages)\n",
      "WARNING: Ignoring invalid distribution -mportlib-metadata (c:\\programdata\\anaconda3\\lib\\site-packages)\n",
      "WARNING: Ignoring invalid distribution - (c:\\programdata\\anaconda3\\lib\\site-packages)\n",
      "WARNING: Ignoring invalid distribution -cikit-learn (c:\\programdata\\anaconda3\\lib\\site-packages)\n"
     ]
    },
    {
     "name": "stdout",
     "output_type": "stream",
     "text": [
      "\n",
      "Requirement already satisfied: scikit-learn in c:\\programdata\\anaconda3\\lib\\site-packages (from sklearn) (0.24.2)\n",
      "Requirement already satisfied: scipy>=0.19.1 in c:\\programdata\\anaconda3\\lib\\site-packages (from scikit-learn->sklearn) (1.7.1)\n",
      "Requirement already satisfied: joblib>=0.11 in c:\\programdata\\anaconda3\\lib\\site-packages (from scikit-learn->sklearn) (1.1.0)\n",
      "Requirement already satisfied: numpy>=1.13.3 in c:\\programdata\\anaconda3\\lib\\site-packages (from scikit-learn->sklearn) (1.20.3)\n",
      "Requirement already satisfied: threadpoolctl>=2.0.0 in c:\\programdata\\anaconda3\\lib\\site-packages (from scikit-learn->sklearn) (2.2.0)\n"
     ]
    }
   ],
   "source": [
    "!pip3 install scikit-plot\n",
    "!pip3 install sklearn"
   ]
  },
  {
   "cell_type": "code",
   "execution_count": 56,
   "id": "36f555d7",
   "metadata": {},
   "outputs": [
    {
     "data": {
      "image/png": "[encoded data removed]",
      "text/plain": [
       "<Figure size 432x288 with 1 Axes>"
      ]
     },
     "metadata": {
      "needs_background": "light"
     },
     "output_type": "display_data"
    }
   ],
   "source": [
    "from scikitplot.metrics import plot_roc_curve\n",
    "from sklearn import metrics\n",
    "from sklearn.metrics import roc_curve, auc\n",
    "import matplotlib.pyplot as plt\n",
    "fpr, tpr, thresholds = roc_curve(y_test, y_pred)\n",
    "plt.figure(figsize=(6,4))\n",
    "plt.plot(fpr, tpr, linewidth=2)\n",
    "plt.plot([0,1], [0,1], 'k--' )\n",
    "plt.rcParams['font.size'] = 12\n",
    "plt.title('ROC curve for Predicting a Pulsar Star classifier')\n",
    "plt.xlabel('False Positive Rate (1 - Specificity)')\n",
    "plt.ylabel('True Positive Rate (Sensitivity)')\n",
    "plt.show()"
   ]
  },
  {
   "cell_type": "code",
   "execution_count": null,
   "id": "ca59db31",
   "metadata": {},
   "outputs": [],
   "source": [
    "# compute ROC AUC\n",
    "from sklearn.metrics import roc_auc_score\n",
    "ROC_AUC = roc_auc_score(y_test, y_pred)\n",
    "print('ROC AUC : {:.4f}'.format(ROC_AUC))"
   ]
  }
 ],
 "metadata": {
  "kernelspec": {
   "display_name": "Python 3 (ipykernel)",
   "language": "python",
   "name": "python3"
  },
  "language_info": {
   "codemirror_mode": {
    "name": "ipython",
    "version": 3
   },
   "file_extension": ".py",
   "mimetype": "text/x-python",
   "name": "python",
   "nbconvert_exporter": "python",
   "pygments_lexer": "ipython3",
   "version": "3.9.7"
  }
 },
 "nbformat": 4,
 "nbformat_minor": 5
}
